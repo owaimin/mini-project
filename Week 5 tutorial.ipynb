{
 "cells": [
  {
   "cell_type": "markdown",
   "id": "fe8e775f",
   "metadata": {},
   "source": [
    "# Setup"
   ]
  },
  {
   "cell_type": "code",
   "execution_count": 4,
   "id": "127b5073",
   "metadata": {},
   "outputs": [],
   "source": [
    "import sys\n",
    "assert sys.version_info >= (3, 7)\n",
    "\n",
    "import numpy as np\n",
    "import cv2 as cv\n",
    "from util_func import *"
   ]
  },
  {
   "cell_type": "markdown",
   "id": "d04e77c8",
   "metadata": {},
   "source": [
    "### Quetion 1"
   ]
  },
  {
   "cell_type": "markdown",
   "id": "414cb333",
   "metadata": {},
   "source": [
    "Rotate image by 45 degrees without cropping the sides of the image. (Hint: There are 2 strategies to tackle these problems). Use \"lena.jfif\" as the input image.\n",
    "* Use external libraries imutils.\n",
    "* Modify the transformation matrix."
   ]
  },
  {
   "cell_type": "code",
   "execution_count": 8,
   "id": "6dfdac39",
   "metadata": {},
   "outputs": [
    {
     "name": "stdout",
     "output_type": "stream",
     "text": [
      "Requirement already satisfied: imutils in c:\\users\\acer\\appdata\\local\\programs\\python\\python311\\lib\\site-packages (0.5.4)\n"
     ]
    },
    {
     "name": "stderr",
     "output_type": "stream",
     "text": [
      "\n",
      "[notice] A new release of pip is available: 23.1.2 -> 23.2.1\n",
      "[notice] To update, run: C:\\Users\\Acer\\AppData\\Local\\Programs\\Python\\Python311\\python.exe -m pip install --upgrade pip\n"
     ]
    }
   ],
   "source": [
    "!pip install imutils"
   ]
  },
  {
   "cell_type": "code",
   "execution_count": 10,
   "id": "b2affc4f",
   "metadata": {},
   "outputs": [],
   "source": [
    "import imutils as im\n",
    "\n",
    "img = cv.imread(\"images/lena.jfif\")\n",
    "\n",
    "rotated_img = im.rotate_bound(img, angle=-45)\n",
    "\n",
    "show_img(\"rotation\", rotated_img)"
   ]
  },
  {
   "cell_type": "code",
   "execution_count": 11,
   "id": "518ca125",
   "metadata": {},
   "outputs": [],
   "source": [
    "img = cv.imread(\"images/lena.jfif\")\n",
    "\n",
    "h, w = img.shape[:2]\n",
    "angle = 45\n",
    "\n",
    "yc, xc = h // 2, w // 2\n",
    "\n",
    "M = cv.getRotationMatrix2D((200, 80), angle, 1)\n",
    "dst = cv.warpAffine(img, M, (w+yc, h+xc))\n",
    "\n",
    "# M = np.float32([[1, 0, tx],[0, 1, ty]])\n",
    "#dst_new = cv.warpAffine(dst, M, (w+150, h+150))\n",
    "\n",
    "show_img(\"rotation\", dst)"
   ]
  },
  {
   "cell_type": "markdown",
   "id": "1d8932a7",
   "metadata": {},
   "source": [
    "### Question 2"
   ]
  },
  {
   "attachments": {},
   "cell_type": "markdown",
   "id": "e97b6691",
   "metadata": {},
   "source": [
    "Use the images with titles: \"flower.jfif\" and \"native-bee.png\". I want to put flower above an image. If I add two images, it will change color. If I blend it, I get a transparent effect. But I want it to be opaque. If it was a rectangular region, we could use the ROI as we did in the previous section. But flower is not a rectangular region. This is where bitwise operations, like AND, OR, NOT and XOR really come in handy. The associated functions are cv.bitwise_and(), cv.bitwise_or() and cv.bitwise_not(). You need to use cv.threshold function to segment the flower. Please refer to online documentation for more info. The result should resemble the following:"
   ]
  },
  {
   "cell_type": "code",
   "execution_count": 12,
   "id": "3227451c",
   "metadata": {},
   "outputs": [],
   "source": [
    "img = cv.imread(\"images/native-bee.png\")\n",
    "img2 = cv.imread(\"images/flower.jfif\")\n",
    "\n",
    "assert img is not None, \"file could not be read, check with os.path.exists()\"\n",
    "assert img2 is not None, \"file could not be read, check with os.path.exists()\"\n",
    "\n",
    "\n",
    "#img = cv.resize(img, (img2.shape[1], img2.shape[0]))\n",
    "rows, cols = img2.shape[:2]\n",
    "roi = img[0:rows, 0:cols]\n",
    "\n",
    "img2gray = cv.cvtColor(img2, cv.COLOR_BGR2GRAY)\n",
    "\n",
    "ret, mask = cv.threshold(img2gray, 70, 255, cv.THRESH_BINARY)\n",
    "\n",
    "mask_inv = cv.bitwise_not(mask)\n",
    "\n",
    "\n",
    "img1_bg = cv.bitwise_and(roi, roi, mask=mask_inv)\n",
    "\n",
    "img2_fg = cv.bitwise_and(img2, img2, mask=mask)\n",
    "\n",
    "dst = cv.add(img1_bg, img2_fg)\n",
    "img[0:rows, 0:cols] = dst\n",
    "\n",
    "cv.imshow(\"res\", img)\n",
    "cv.waitKey(0)\n",
    "cv.destroyAllWindows()"
   ]
  },
  {
   "cell_type": "markdown",
   "id": "41b64c42",
   "metadata": {},
   "source": [
    "### Question 3"
   ]
  },
  {
   "cell_type": "code",
   "execution_count": 13,
   "id": "c46f71d6",
   "metadata": {},
   "outputs": [],
   "source": [
    "# Load the image\n",
    "img = cv.imread('images/native-bee.png')\n",
    "\n",
    "# Custom kernels\n",
    "kernel_3x3 = np.array([[0, -1, 0], [-1, 5, -1],\n",
    "                       [0, -1, 0]])\n",
    "\n",
    "kernel_5x5 = np.array([[-1, -1, -1, -1, -1], [-1, -1, -1, -1, -1],\n",
    "                       [-1, -1, 25, -1, -1], [-1, -1, -1, -1, -1],\n",
    "                       [-1, -1, -1, -1, -1]])\n",
    "\n",
    "# Apply the custom kernels\n",
    "image_3x3 = cv.filter2D(img, -1, kernel_3x3)\n",
    "image_5x5 = cv.filter2D(img, -1, kernel_5x5)\n",
    "\n",
    "# Display the original and sharpened images\n",
    "cv.imshow('Original Image', img)\n",
    "cv.imshow('Image (3x3)', image_3x3)\n",
    "cv.imshow('Image (5x5)', image_5x5)\n",
    "cv.waitKey(0)\n",
    "cv.destroyAllWindows()"
   ]
  },
  {
   "cell_type": "markdown",
   "id": "17ee70fd",
   "metadata": {},
   "source": [
    "### Question 4"
   ]
  },
  {
   "cell_type": "code",
   "execution_count": 14,
   "id": "6b99b241",
   "metadata": {},
   "outputs": [],
   "source": [
    "import cv2\n",
    "import numpy as np\n",
    "img =cv.imread(\"images/noise_lena.jpg\")\n",
    "# average filter\n",
    "blur_1 = cv.blur(img,(5,5))\n",
    "    \n",
    "# gaussian filter\n",
    "blur_2 = cv.GaussianBlur(img,[3,3],0,0)\n",
    "\n",
    "# median filter\n",
    "blur_3 = cv.medianBlur(img,5)\n",
    "\n",
    "show_img(\"average \",blur_1)\n",
    "show_img(\"gaussian \",blur_2)\n",
    "show_img(\"median \",blur_3)"
   ]
  },
  {
   "cell_type": "code",
   "execution_count": null,
   "id": "6df55fee",
   "metadata": {},
   "outputs": [],
   "source": []
  }
 ],
 "metadata": {
  "kernelspec": {
   "display_name": "Python 3 (ipykernel)",
   "language": "python",
   "name": "python3"
  },
  "language_info": {
   "codemirror_mode": {
    "name": "ipython",
    "version": 3
   },
   "file_extension": ".py",
   "mimetype": "text/x-python",
   "name": "python",
   "nbconvert_exporter": "python",
   "pygments_lexer": "ipython3",
   "version": "3.11.4"
  }
 },
 "nbformat": 4,
 "nbformat_minor": 5
}
