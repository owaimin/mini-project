{
 "cells": [
  {
   "cell_type": "code",
   "execution_count": 1,
   "id": "849e2047",
   "metadata": {},
   "outputs": [
    {
     "data": {
      "text/plain": [
       "True"
      ]
     },
     "execution_count": 1,
     "metadata": {},
     "output_type": "execute_result"
    }
   ],
   "source": [
    "import sys\n",
    "# Python 3.7 is required\n",
    "assert sys.version_info >= (3, 7)\n",
    "\n",
    "import cv2 as cv\n",
    "import numpy as np\n",
    "from util_func import show_img\n",
    "\n",
    "np.random.seed(99)\n",
    "\n",
    "# Make sure that optimization is enabled\n",
    "if not cv.useOptimized():\n",
    "    cv.setUseOptimized(True)\n",
    "    \n",
    "cv.useOptimized()"
   ]
  },
  {
   "cell_type": "markdown",
   "id": "92562061",
   "metadata": {},
   "source": [
    "# Question3"
   ]
  },
  {
   "cell_type": "markdown",
   "id": "34e2dd82",
   "metadata": {},
   "source": [
    "Display image sequences of smooth transition of two images with different values of . Refer to code in\n",
    "section \"Image blending\". Use \"lena.jfif\" and \"coins.jfif\" as the base images."
   ]
  },
  {
   "cell_type": "code",
   "execution_count": 12,
   "id": "2d67be61",
   "metadata": {},
   "outputs": [],
   "source": [
    "img = cv.imread(\"images/lena.jfif\")\n",
    "img2 = cv.imread(\"images/coins.jfif\")\n",
    "\n",
    "# resize img2 to be the same dimension as img\n",
    "h, w = img.shape[:2]\n",
    "img2 = cv.resize(img2, (w, h))\n",
    "\n",
    "for alpha in range(0, 101):\n",
    "    alpha /= 100\n",
    "    res = cv.addWeighted(img, alpha, img2, 1-alpha, 0)\n",
    "    cv.imshow(\"Image blending\", res)\n",
    "    cv.waitKey(10)\n",
    "\n",
    "cv.waitKey(0)\n",
    "cv.destroyAllWindows()"
   ]
  },
  {
   "cell_type": "markdown",
   "id": "5f9ada24",
   "metadata": {},
   "source": [
    "# Question4 "
   ]
  },
  {
   "cell_type": "markdown",
   "id": "1c6364fb",
   "metadata": {},
   "source": [
    "Suppose you are a digital content creator and wish to share photo online. However, you wish to protect\n",
    "these images from being stolen or altered by others. Leverage your image processing knowledge to apply\n",
    "watermark on image \"travel_hd.jpg\". The example of resulting watermarked image are as shown in the\n",
    "following"
   ]
  },
  {
   "cell_type": "code",
   "execution_count": 7,
   "id": "77a1f3d6",
   "metadata": {},
   "outputs": [],
   "source": [
    "watermark = cv.imread(\"watermark.png\")\n",
    "\n",
    "show_img(\"watermark\", watermark)\n"
   ]
  },
  {
   "cell_type": "code",
   "execution_count": 8,
   "id": "217aa3bb",
   "metadata": {},
   "outputs": [
    {
     "data": {
      "text/plain": [
       "(170, 618, 3)"
      ]
     },
     "execution_count": 8,
     "metadata": {},
     "output_type": "execute_result"
    }
   ],
   "source": [
    "watermark.shape"
   ]
  },
  {
   "cell_type": "code",
   "execution_count": 9,
   "id": "1b05af23",
   "metadata": {},
   "outputs": [
    {
     "data": {
      "text/plain": [
       "(6000, 4000, 3)"
      ]
     },
     "execution_count": 9,
     "metadata": {},
     "output_type": "execute_result"
    }
   ],
   "source": [
    "img = cv.imread(\"images/travel_hd.jpg\")\n",
    "img.shape"
   ]
  },
  {
   "cell_type": "code",
   "execution_count": 10,
   "id": "5c39e5e7",
   "metadata": {},
   "outputs": [],
   "source": [
    "overlay = np.zeros_like(img)\n",
    "\n",
    "h,w = img.shape[:2]\n",
    "hW, wW = watermark.shape[:2]\n",
    "\n",
    "overlay[h-hW-15:h-15, 15:15+wW] = watermark"
   ]
  },
  {
   "cell_type": "code",
   "execution_count": 11,
   "id": "ba1f6087",
   "metadata": {},
   "outputs": [],
   "source": [
    "watermark_img = cv.addWeighted(img, 1, overlay, 0.4, 0)\n",
    "\n",
    "show_img(\"watermark\", watermark_img, adjust=True)"
   ]
  },
  {
   "cell_type": "code",
   "execution_count": null,
   "id": "f8a107e5",
   "metadata": {},
   "outputs": [],
   "source": []
  }
 ],
 "metadata": {
  "kernelspec": {
   "display_name": "Python 3 (ipykernel)",
   "language": "python",
   "name": "python3"
  },
  "language_info": {
   "codemirror_mode": {
    "name": "ipython",
    "version": 3
   },
   "file_extension": ".py",
   "mimetype": "text/x-python",
   "name": "python",
   "nbconvert_exporter": "python",
   "pygments_lexer": "ipython3",
   "version": "3.11.4"
  }
 },
 "nbformat": 4,
 "nbformat_minor": 5
}
