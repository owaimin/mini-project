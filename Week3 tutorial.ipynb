{
 "cells": [
  {
   "cell_type": "markdown",
   "id": "ca48a196",
   "metadata": {},
   "source": [
    "# Question 3"
   ]
  },
  {
   "cell_type": "markdown",
   "id": "92be8b7c",
   "metadata": {},
   "source": [
    "Write codes that performs the following:\n",
    "- Load the video “img_pexels.mp4” into the Python environment, resize it and display the videos with smaller frames (The frames  can be of any size, as long as it is smaller). You can specify an arbitrary frame rate.\n",
    "- Save it as a separate files: “smaller_img_pexels.avi” or \"smaller_img_pexels.mp4\""
   ]
  },
  {
   "cell_type": "code",
   "execution_count": 25,
   "id": "8724ba5b",
   "metadata": {},
   "outputs": [
    {
     "name": "stdout",
     "output_type": "stream",
     "text": [
      "540,  960\n"
     ]
    }
   ],
   "source": [
    "# Create a VideoCapture object\n",
    "cap = cv.VideoCapture('videos/img_pexels.mp4')\n",
    "\n",
    "# Check if the object has been created successfully\n",
    "if not cap.isOpened():\n",
    "    raise Exception(\"No video detected\")\n",
    "    \n",
    "fourcc = cv.VideoWriter_fourcc(*'mp4v')\n",
    "fps = 60\n",
    "w, h = int((int(cap.get(3)) / 2)), int((int(cap.get(4)) / 2)) \n",
    "print(f\"{w},  {h}\")\n",
    "\n",
    "out = cv.VideoWriter('smaller_img_pexels.mp4', fourcc, fps, (w,h))\n",
    "   \n",
    "# Read the frames with loop\n",
    "while cap.isOpened():\n",
    "    ret, frame = cap.read()\n",
    "    frame = cv.resize(frame, (w,h))\n",
    "    if not ret:\n",
    "        print(\"Can't receive frame\")\n",
    "        break\n",
    "        \n",
    "    cv.namedWindow(\"frame\", cv.WINDOW_NORMAL)\n",
    "    out.write(frame)\n",
    "    cv.imshow('frame', frame)\n",
    "    # Press Esc key to exit (27 is ASCII code for Esc). cv.waitKey() returns 32 bit integer values. You can find the ASCII table\n",
    "    # on this URL: https://theasciicode.com.ar/\n",
    "    if cv.waitKey(1) & 0xFF == 27:\n",
    "        break\n",
    "        \n",
    "cap.release()\n",
    "out.release()\n",
    "cv.destroyAllWindows()"
   ]
  },
  {
   "cell_type": "markdown",
   "id": "50d626dd",
   "metadata": {},
   "source": [
    "# Question 4"
   ]
  },
  {
   "cell_type": "markdown",
   "id": "af1aa12e",
   "metadata": {},
   "source": [
    "Enlarge the image \"dog.jfif\" by using different techniques: 1) Linear interpolation, 2) Cubic interpolation and 3) nearest neighbor interpolation. Comment on the upscaled of all the outputs."
   ]
  },
  {
   "cell_type": "code",
   "execution_count": 34,
   "id": "fbe7c871",
   "metadata": {},
   "outputs": [],
   "source": [
    "import cv2\n",
    "\n",
    "# Load the image\n",
    "image_path = \"C:\\\\Users\\\\Acer\\\\images\\\\dog.jfif\"\n",
    "image = cv2.imread(image_path)\n",
    "\n",
    "# Set the scaling factor for enlargement\n",
    "scale_factor = 2\n",
    "\n",
    "# Perform linear interpolation\n",
    "linear_interpolation = cv2.resize(image, None, fx=scale_factor, fy=scale_factor, interpolation=cv2.INTER_LINEAR)\n",
    "\n",
    "# Perform cubic interpolation\n",
    "cubic_interpolation = cv2.resize(image, None, fx=scale_factor, fy=scale_factor, interpolation=cv2.INTER_CUBIC)\n",
    "\n",
    "# Perform nearest neighbor interpolation\n",
    "nearest_neighbor_interpolation = cv2.resize(image, None, fx=scale_factor, fy=scale_factor, interpolation=cv2.INTER_NEAREST)\n",
    "\n",
    "# Display the upscaled images\n",
    "cv2.imshow('Linear Interpolation', linear_interpolation)\n",
    "cv2.imshow('Cubic Interpolation', cubic_interpolation)\n",
    "cv2.imshow('Nearest Neighbor Interpolation', nearest_neighbor_interpolation)\n",
    "cv2.waitKey(0)\n",
    "cv2.destroyAllWindows()\n"
   ]
  },
  {
   "cell_type": "markdown",
   "id": "35801ff0",
   "metadata": {},
   "source": [
    "# Comment\n",
    "### linear interpolation\n",
    "  - image quality is good\n",
    "### cubic interpolation\n",
    "  - image quality is between linear and nearest\n",
    "### nearest neighbour interpolation\n",
    "  - image quality is bad"
   ]
  },
  {
   "cell_type": "code",
   "execution_count": null,
   "id": "db8391e1",
   "metadata": {},
   "outputs": [],
   "source": []
  }
 ],
 "metadata": {
  "kernelspec": {
   "display_name": "Python 3 (ipykernel)",
   "language": "python",
   "name": "python3"
  },
  "language_info": {
   "codemirror_mode": {
    "name": "ipython",
    "version": 3
   },
   "file_extension": ".py",
   "mimetype": "text/x-python",
   "name": "python",
   "nbconvert_exporter": "python",
   "pygments_lexer": "ipython3",
   "version": "3.11.4"
  }
 },
 "nbformat": 4,
 "nbformat_minor": 5
}
