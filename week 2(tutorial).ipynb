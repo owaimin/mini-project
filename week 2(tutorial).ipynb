{
 "cells": [
  {
   "cell_type": "code",
   "execution_count": 19,
   "id": "c3896f8d",
   "metadata": {},
   "outputs": [
    {
     "name": "stdout",
     "output_type": "stream",
     "text": [
      "[0 1 2 3 4 5 6 7 8 9]\n",
      "[ 0  1  2  3 25 25 25  7  8  9]\n",
      "[-1 25 25]\n",
      "[ 0  1  2  3 25 25 25  7  8  9]\n"
     ]
    }
   ],
   "source": [
    "import numpy as np\n",
    "\n",
    "my_arr = np.arange(10)\n",
    "print(my_arr)\n",
    "my_arr[4:7] = 25\n",
    "print(my_arr)\n",
    "\n",
    "arr_slice = my_arr[4:7].copy()  # Create a copy of the slice\n",
    "\n",
    "# Change the first element of the copied arr_slice to a new value\n",
    "arr_slice[0] = -1\n",
    "\n",
    "print(arr_slice)\n",
    "print(my_arr)"
   ]
  },
  {
   "cell_type": "code",
   "execution_count": 23,
   "id": "dc50ccbb",
   "metadata": {},
   "outputs": [
    {
     "data": {
      "image/png": "[encoded data removed]",
      "text/plain": [
       "<Figure size 640x480 with 1 Axes>"
      ]
     },
     "metadata": {},
     "output_type": "display_data"
    }
   ],
   "source": [
    "import numpy as np\n",
    "import matplotlib.pyplot as plt\n",
    "\n",
    "# Define the dimensions of the image\n",
    "width = 200\n",
    "height = 200\n",
    "\n",
    "# Create an empty image\n",
    "image = np.zeros((height, width))\n",
    "\n",
    "# Calculate the center coordinates\n",
    "center_x = width // 2\n",
    "center_y = height // 2\n",
    "\n",
    "# Calculate the radius of the circular spot\n",
    "radius = min(width, height) // 4\n",
    "\n",
    "# Generate the indices of the image array using meshgrid\n",
    "x_indices, y_indices = np.meshgrid(np.arange(width), np.arange(height))\n",
    "\n",
    "# Calculate the distance of each pixel from the center\n",
    "distances = np.sqrt((x_indices - center_x) ** 2 + (y_indices - center_y) ** 2)\n",
    "\n",
    "# Set the pixels within the specified radius to white\n",
    "image[distances <= radius] = 255\n",
    "\n",
    "# Display the image\n",
    "plt.imshow(image, cmap='gray')\n",
    "plt.axis('off')\n",
    "plt.show()"
   ]
  },
  {
   "cell_type": "code",
   "execution_count": null,
   "id": "7821b685",
   "metadata": {},
   "outputs": [],
   "source": []
  }
 ],
 "metadata": {
  "kernelspec": {
   "display_name": "Python 3 (ipykernel)",
   "language": "python",
   "name": "python3"
  },
  "language_info": {
   "codemirror_mode": {
    "name": "ipython",
    "version": 3
   },
   "file_extension": ".py",
   "mimetype": "text/x-python",
   "name": "python",
   "nbconvert_exporter": "python",
   "pygments_lexer": "ipython3",
   "version": "3.11.4"
  }
 },
 "nbformat": 4,
 "nbformat_minor": 5
}
